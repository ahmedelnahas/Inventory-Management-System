{
 "cells": [
  {
   "cell_type": "markdown",
   "id": "68494cec",
   "metadata": {},
   "source": [
    "\n",
    "# Data  Consolidation and Merging\n",
    "\n",
    "This notebook demonstrates an optimized process for manipulating inventory data, including importing , optimizing , grouping, aggregation, and exporting results to a CSV file. The workflow has been streamlined for efficiency and readability.\n"
   ]
  },
  {
   "cell_type": "markdown",
   "id": "48682b1e",
   "metadata": {},
   "source": [
    "\n",
    "## 1. Importing Libraries\n"
   ]
  },
  {
   "cell_type": "code",
   "execution_count": 154,
   "id": "2f135549",
   "metadata": {},
   "outputs": [],
   "source": [
    "import pandas as pd\n",
    "import numpy as np\n",
    "import dask.dataframe as dd\n",
    "import matplotlib.pyplot as plt\n",
    "import gc"
   ]
  },
  {
   "cell_type": "markdown",
   "id": "1e7d8574",
   "metadata": {},
   "source": [
    "\n",
    "## 2. Data Loading\n",
    "\n"
   ]
  },
  {
   "cell_type": "code",
   "execution_count": 149,
   "id": "ed12ff0c",
   "metadata": {},
   "outputs": [],
   "source": [
    "# Importing the Data\n",
    "purchases_2016 = pd.read_csv(\"PurchasesFINAL12312016.csv\")\n",
    "purchases_2017 = pd.read_csv(\"2017PurchasePricesDec.csv\")\n",
    "invoce_purchases = pd.read_csv(\"InvoicePurchases12312016.csv\")\n",
    "sales = pd.read_csv(\"SalesFINAL12312016.csv\")\n",
    "Begin_Inv = pd.read_csv(\"BegInvFINAL12312016.csv\")\n",
    "End_Inv = pd.read_csv(\"EndInvFINAL12312016.csv\")\n"
   ]
  },
  {
   "cell_type": "markdown",
   "id": "22482247-7704-49d5-9f06-33a9804f1936",
   "metadata": {},
   "source": [
    "## 3. Data Optimization\n"
   ]
  },
  {
   "cell_type": "code",
   "execution_count": 142,
   "id": "e673b3be-e50c-4c0c-8bac-a970171bfe7e",
   "metadata": {},
   "outputs": [],
   "source": [
    "# Optimize the Memory usage\n",
    "def optimize_memory_usage(df):\n",
    "    # Downcast Integer\n",
    "    for col in df.select_dtypes(include=[\"int64\"]).columns:\n",
    "        df[col] = pd.to_numeric(df[col], downcast=\"integer\")\n",
    "\n",
    "    # Downcast Floats\n",
    "    for col in df.select_dtypes(include=[\"float64\"]).columns:\n",
    "        df[col] = pd.to_numeric(df[col], downcast=\"float\")\n",
    "\n",
    "    # Convert Object cols to Category if appropriate\n",
    "    for col in df.select_dtypes(include=[\"object\"]).columns:\n",
    "        unique_values = df[col].nunique()\n",
    "        num_values = len(df[col])\n",
    "        if unique_values / num_values < 0.5:\n",
    "            df[col] = df[col].astype(\"category\")\n",
    "\n",
    "    return df"
   ]
  },
  {
   "cell_type": "code",
   "execution_count": 121,
   "id": "2fff2144-445d-4f30-85c7-490591c4a935",
   "metadata": {},
   "outputs": [
    {
     "name": "stdout",
     "output_type": "stream",
     "text": [
      "<class 'pandas.core.frame.DataFrame'>\n",
      "RangeIndex: 2372474 entries, 0 to 2372473\n",
      "Data columns (total 16 columns):\n",
      " #   Column          Dtype  \n",
      "---  ------          -----  \n",
      " 0   InventoryId     object \n",
      " 1   Store           int64  \n",
      " 2   Brand           int64  \n",
      " 3   Description     object \n",
      " 4   Size            object \n",
      " 5   VendorNumber    int64  \n",
      " 6   VendorName      object \n",
      " 7   PONumber        int64  \n",
      " 8   PODate          object \n",
      " 9   ReceivingDate   object \n",
      " 10  InvoiceDate     object \n",
      " 11  PayDate         object \n",
      " 12  PurchasePrice   float64\n",
      " 13  Quantity        int64  \n",
      " 14  Dollars         float64\n",
      " 15  Classification  int64  \n",
      "dtypes: float64(2), int64(6), object(8)\n",
      "memory usage: 1.2 GB\n",
      "None\n"
     ]
    }
   ],
   "source": [
    "# The Orginal data memory usage before Optimization \n",
    "print(purchases_2016.info(memory_usage='deep'))\n"
   ]
  },
  {
   "cell_type": "code",
   "execution_count": 143,
   "id": "a4136eb4-1a8d-45c8-9f6d-e4e699b5b26a",
   "metadata": {},
   "outputs": [
    {
     "name": "stdout",
     "output_type": "stream",
     "text": [
      "<class 'pandas.core.frame.DataFrame'>\n",
      "RangeIndex: 2372474 entries, 0 to 2372473\n",
      "Data columns (total 16 columns):\n",
      " #   Column          Dtype   \n",
      "---  ------          -----   \n",
      " 0   InventoryId     category\n",
      " 1   Store           int8    \n",
      " 2   Brand           int32   \n",
      " 3   Description     category\n",
      " 4   Size            category\n",
      " 5   VendorNumber    int32   \n",
      " 6   VendorName      category\n",
      " 7   PONumber        int16   \n",
      " 8   PODate          category\n",
      " 9   ReceivingDate   category\n",
      " 10  InvoiceDate     category\n",
      " 11  PayDate         category\n",
      " 12  PurchasePrice   float32 \n",
      " 13  Quantity        int16   \n",
      " 14  Dollars         float64 \n",
      " 15  Classification  int8    \n",
      "dtypes: category(8), float32(1), float64(1), int16(2), int32(2), int8(2)\n",
      "memory usage: 121.9 MB\n",
      "None\n"
     ]
    }
   ],
   "source": [
    "# Optimize purchases_2016\n",
    "df_optimized = optimize_memory_usage(purchases_2016)\n",
    "print(df_optimized.info(memory_usage='deep'))"
   ]
  },
  {
   "cell_type": "markdown",
   "id": "27f1ec11-6282-4cb5-adef-34a2709d4a56",
   "metadata": {},
   "source": [
    "## 4. Purchases Data Transformation"
   ]
  },
  {
   "cell_type": "code",
   "execution_count": 144,
   "id": "bc831688-9431-426b-91aa-7ea2bfc5da96",
   "metadata": {},
   "outputs": [],
   "source": [
    "# Calculate the Freight per Item\n",
    "invoce_purchases[\"Freight/Unit\"] = invoce_purchases[\"Freight\"] / invoce_purchases[\"Quantity\"]"
   ]
  },
  {
   "cell_type": "code",
   "execution_count": 145,
   "id": "8505fa71-a47f-490a-b56a-242b2e79a159",
   "metadata": {},
   "outputs": [],
   "source": [
    "# Select the columns for Merging \n",
    "invoce_purchases_selelected_cols = invoce_purchases[[\"PONumber\",\"Freight/Unit\"]]"
   ]
  },
  {
   "cell_type": "code",
   "execution_count": 146,
   "id": "4b65dafa-7cc5-4c36-bd1c-962eb950ba28",
   "metadata": {},
   "outputs": [],
   "source": [
    "# Drpoing VendorName and Description from purchases_2016\n",
    "df_optimized =df_optimized.drop([\"Description\",\"VendorName\"], axis = 1)"
   ]
  },
  {
   "cell_type": "code",
   "execution_count": 147,
   "id": "99a7525a-80ba-4619-acc1-42323acf2cc8",
   "metadata": {},
   "outputs": [],
   "source": [
    "# Convert Categorical to String\n",
    "df_optimized['PODate'] = df_optimized['PODate'].astype(str)\n",
    "df_optimized['ReceivingDate'] = df_optimized['ReceivingDate'].astype(str)\n",
    "df_optimized['InvoiceDate'] = df_optimized['InvoiceDate'].astype(str)\n",
    "df_optimized['PayDate'] = df_optimized['PayDate'].astype(str)"
   ]
  },
  {
   "cell_type": "code",
   "execution_count": 106,
   "id": "2e885051-97b6-4783-bfb5-51525416d25d",
   "metadata": {},
   "outputs": [],
   "source": [
    "# Convert Dates  to Datetime\n",
    "df_optimized['PODate'] = pd.to_datetime(df_optimized['PODate'], errors='coerce')\n",
    "df_optimized['ReceivingDate'] = pd.to_datetime(df_optimized['ReceivingDate'], errors='coerce')\n",
    "df_optimized['InvoiceDate'] = pd.to_datetime(df_optimized['InvoiceDate'], errors='coerce')\n",
    "df_optimized['PayDate'] = pd.to_datetime(df_optimized['PayDate'], errors='coerce')"
   ]
  },
  {
   "cell_type": "markdown",
   "id": "62e51b22-5566-434f-9cff-3f7f215b1d2e",
   "metadata": {},
   "source": [
    "## 5. Purchases and Invoices Data Merging\n",
    "The datasets are merged on common keys (e.g, InventoryId) to consolidate information from multiple sources."
   ]
  },
  {
   "cell_type": "code",
   "execution_count": 107,
   "id": "c936574f-b3b8-4a2d-b783-99a4ca26b00c",
   "metadata": {},
   "outputs": [],
   "source": [
    "# Merging the Purchases with Invoices\n",
    "Purchases = pd.merge(df_optimized,invoce_purchases_selelected_cols ,on = [\"PONumber\"], how = \"left\")"
   ]
  },
  {
   "cell_type": "code",
   "execution_count": 108,
   "id": "fb5a6b6f-6802-4fe2-a985-317f7a79676f",
   "metadata": {},
   "outputs": [
    {
     "data": {
      "text/html": [
       "<div>\n",
       "<style scoped>\n",
       "    .dataframe tbody tr th:only-of-type {\n",
       "        vertical-align: middle;\n",
       "    }\n",
       "\n",
       "    .dataframe tbody tr th {\n",
       "        vertical-align: top;\n",
       "    }\n",
       "\n",
       "    .dataframe thead th {\n",
       "        text-align: right;\n",
       "    }\n",
       "</style>\n",
       "<table border=\"1\" class=\"dataframe\">\n",
       "  <thead>\n",
       "    <tr style=\"text-align: right;\">\n",
       "      <th></th>\n",
       "      <th>InventoryId</th>\n",
       "      <th>Store</th>\n",
       "      <th>Brand</th>\n",
       "      <th>Size</th>\n",
       "      <th>VendorNumber</th>\n",
       "      <th>PONumber</th>\n",
       "      <th>PODate</th>\n",
       "      <th>ReceivingDate</th>\n",
       "      <th>InvoiceDate</th>\n",
       "      <th>PayDate</th>\n",
       "      <th>PurchasePrice</th>\n",
       "      <th>Quantity</th>\n",
       "      <th>Dollars</th>\n",
       "      <th>Classification</th>\n",
       "      <th>Freight</th>\n",
       "    </tr>\n",
       "  </thead>\n",
       "  <tbody>\n",
       "    <tr>\n",
       "      <th>0</th>\n",
       "      <td>69_MOUNTMEND_8412</td>\n",
       "      <td>69</td>\n",
       "      <td>8412</td>\n",
       "      <td>750mL</td>\n",
       "      <td>105</td>\n",
       "      <td>8124</td>\n",
       "      <td>2015-12-21</td>\n",
       "      <td>2016-01-02</td>\n",
       "      <td>2016-01-04</td>\n",
       "      <td>2016-02-16</td>\n",
       "      <td>35.709999</td>\n",
       "      <td>6</td>\n",
       "      <td>214.26</td>\n",
       "      <td>1</td>\n",
       "      <td>3.470000</td>\n",
       "    </tr>\n",
       "    <tr>\n",
       "      <th>1</th>\n",
       "      <td>30_CULCHETH_5255</td>\n",
       "      <td>30</td>\n",
       "      <td>5255</td>\n",
       "      <td>1.75L</td>\n",
       "      <td>4466</td>\n",
       "      <td>8137</td>\n",
       "      <td>2015-12-22</td>\n",
       "      <td>2016-01-01</td>\n",
       "      <td>2016-01-07</td>\n",
       "      <td>2016-02-21</td>\n",
       "      <td>9.350000</td>\n",
       "      <td>4</td>\n",
       "      <td>37.40</td>\n",
       "      <td>1</td>\n",
       "      <td>2.285333</td>\n",
       "    </tr>\n",
       "    <tr>\n",
       "      <th>2</th>\n",
       "      <td>34_PITMERDEN_5215</td>\n",
       "      <td>34</td>\n",
       "      <td>5215</td>\n",
       "      <td>1.75L</td>\n",
       "      <td>4466</td>\n",
       "      <td>8137</td>\n",
       "      <td>2015-12-22</td>\n",
       "      <td>2016-01-02</td>\n",
       "      <td>2016-01-07</td>\n",
       "      <td>2016-02-21</td>\n",
       "      <td>9.410000</td>\n",
       "      <td>5</td>\n",
       "      <td>47.05</td>\n",
       "      <td>1</td>\n",
       "      <td>2.856667</td>\n",
       "    </tr>\n",
       "    <tr>\n",
       "      <th>3</th>\n",
       "      <td>1_HARDERSFIELD_5255</td>\n",
       "      <td>1</td>\n",
       "      <td>5255</td>\n",
       "      <td>1.75L</td>\n",
       "      <td>4466</td>\n",
       "      <td>8137</td>\n",
       "      <td>2015-12-22</td>\n",
       "      <td>2016-01-01</td>\n",
       "      <td>2016-01-07</td>\n",
       "      <td>2016-02-21</td>\n",
       "      <td>9.350000</td>\n",
       "      <td>6</td>\n",
       "      <td>56.10</td>\n",
       "      <td>1</td>\n",
       "      <td>3.428000</td>\n",
       "    </tr>\n",
       "    <tr>\n",
       "      <th>4</th>\n",
       "      <td>76_DONCASTER_2034</td>\n",
       "      <td>76</td>\n",
       "      <td>2034</td>\n",
       "      <td>750mL</td>\n",
       "      <td>388</td>\n",
       "      <td>8169</td>\n",
       "      <td>2015-12-24</td>\n",
       "      <td>2016-01-02</td>\n",
       "      <td>2016-01-09</td>\n",
       "      <td>2016-02-16</td>\n",
       "      <td>21.320000</td>\n",
       "      <td>5</td>\n",
       "      <td>106.60</td>\n",
       "      <td>1</td>\n",
       "      <td>4.610000</td>\n",
       "    </tr>\n",
       "  </tbody>\n",
       "</table>\n",
       "</div>"
      ],
      "text/plain": [
       "           InventoryId  Store  Brand   Size  VendorNumber  PONumber  \\\n",
       "0    69_MOUNTMEND_8412     69   8412  750mL           105      8124   \n",
       "1     30_CULCHETH_5255     30   5255  1.75L          4466      8137   \n",
       "2    34_PITMERDEN_5215     34   5215  1.75L          4466      8137   \n",
       "3  1_HARDERSFIELD_5255      1   5255  1.75L          4466      8137   \n",
       "4    76_DONCASTER_2034     76   2034  750mL           388      8169   \n",
       "\n",
       "      PODate ReceivingDate InvoiceDate    PayDate  PurchasePrice  Quantity  \\\n",
       "0 2015-12-21    2016-01-02  2016-01-04 2016-02-16      35.709999         6   \n",
       "1 2015-12-22    2016-01-01  2016-01-07 2016-02-21       9.350000         4   \n",
       "2 2015-12-22    2016-01-02  2016-01-07 2016-02-21       9.410000         5   \n",
       "3 2015-12-22    2016-01-01  2016-01-07 2016-02-21       9.350000         6   \n",
       "4 2015-12-24    2016-01-02  2016-01-09 2016-02-16      21.320000         5   \n",
       "\n",
       "   Dollars  Classification   Freight  \n",
       "0   214.26               1  3.470000  \n",
       "1    37.40               1  2.285333  \n",
       "2    47.05               1  2.856667  \n",
       "3    56.10               1  3.428000  \n",
       "4   106.60               1  4.610000  "
      ]
     },
     "execution_count": 108,
     "metadata": {},
     "output_type": "execute_result"
    }
   ],
   "source": [
    "# Calculate the freight per quantity\n",
    "Purchases[\"Freight\"] =  Purchases[\"Freight/Unit\"] * Purchases[\"Quantity\"]\n",
    "Purchases = Purchases.drop(\"Freight/Unit\" ,  axis = 1)\n",
    "Purchases.head()"
   ]
  },
  {
   "cell_type": "markdown",
   "id": "78cb3325-8769-445e-8bc9-486c56cce978",
   "metadata": {},
   "source": [
    "### Checking for Missing Values"
   ]
  },
  {
   "cell_type": "code",
   "execution_count": 109,
   "id": "6f134029-5c0c-43e5-82fe-0b96db488b03",
   "metadata": {},
   "outputs": [
    {
     "data": {
      "text/plain": [
       "InventoryId       0\n",
       "Store             0\n",
       "Brand             0\n",
       "Size              3\n",
       "VendorNumber      0\n",
       "PONumber          0\n",
       "PODate            0\n",
       "ReceivingDate     0\n",
       "InvoiceDate       0\n",
       "PayDate           0\n",
       "PurchasePrice     0\n",
       "Quantity          0\n",
       "Dollars           0\n",
       "Classification    0\n",
       "Freight           0\n",
       "dtype: int64"
      ]
     },
     "execution_count": 109,
     "metadata": {},
     "output_type": "execute_result"
    }
   ],
   "source": [
    "# Check Nulls\n",
    "Purchases.isna().sum()"
   ]
  },
  {
   "cell_type": "code",
   "execution_count": 110,
   "id": "b8891e44-a3af-489f-8551-027203f48fec",
   "metadata": {},
   "outputs": [],
   "source": [
    "# Droping Nulls from size column\n",
    "Purchases = Purchases.dropna()"
   ]
  },
  {
   "cell_type": "code",
   "execution_count": 112,
   "id": "2b2ba53e-f215-4d64-9b73-89b847ec5393",
   "metadata": {},
   "outputs": [
    {
     "data": {
      "text/plain": [
       "InventoryId             category\n",
       "Store                       int8\n",
       "Brand                      int32\n",
       "Size                    category\n",
       "VendorNumber               int32\n",
       "PONumber                   int16\n",
       "PODate            datetime64[ns]\n",
       "ReceivingDate     datetime64[ns]\n",
       "InvoiceDate       datetime64[ns]\n",
       "PayDate           datetime64[ns]\n",
       "PurchasePrice            float32\n",
       "Quantity                   int16\n",
       "Dollars                  float64\n",
       "Classification              int8\n",
       "Freight                  float64\n",
       "dtype: object"
      ]
     },
     "execution_count": 112,
     "metadata": {},
     "output_type": "execute_result"
    }
   ],
   "source": [
    "Purchases.dtypes"
   ]
  },
  {
   "cell_type": "markdown",
   "id": "697d1c4a-6c4c-40af-b407-1399faf0c6b0",
   "metadata": {},
   "source": [
    "## 6. Exporting the Processed Purchases and Invoices\n"
   ]
  },
  {
   "cell_type": "code",
   "execution_count": 113,
   "id": "fa7b37da-73d0-4644-9fc6-1e92b120781e",
   "metadata": {},
   "outputs": [],
   "source": [
    "# Exporting the new processed Data\n",
    "Purchases.to_csv(\"PurchasesInvoices.csv\", index = False)"
   ]
  },
  {
   "cell_type": "markdown",
   "id": "4338c7bd-43a8-475e-9eec-e479b1267e15",
   "metadata": {},
   "source": [
    "### Merge Sales with Purchases "
   ]
  },
  {
   "cell_type": "code",
   "execution_count": 138,
   "id": "63b77971-e5e5-4ca4-9a08-4c75135531db",
   "metadata": {},
   "outputs": [
    {
     "data": {
      "text/html": [
       "<div>\n",
       "<style scoped>\n",
       "    .dataframe tbody tr th:only-of-type {\n",
       "        vertical-align: middle;\n",
       "    }\n",
       "\n",
       "    .dataframe tbody tr th {\n",
       "        vertical-align: top;\n",
       "    }\n",
       "\n",
       "    .dataframe thead th {\n",
       "        text-align: right;\n",
       "    }\n",
       "</style>\n",
       "<table border=\"1\" class=\"dataframe\">\n",
       "  <thead>\n",
       "    <tr style=\"text-align: right;\">\n",
       "      <th></th>\n",
       "      <th>InventoryId</th>\n",
       "      <th>Store</th>\n",
       "      <th>Brand</th>\n",
       "      <th>Description</th>\n",
       "      <th>Size</th>\n",
       "      <th>SalesQuantity</th>\n",
       "      <th>SalesDollars</th>\n",
       "      <th>SalesPrice</th>\n",
       "      <th>SalesDate</th>\n",
       "      <th>Volume</th>\n",
       "      <th>Classification</th>\n",
       "      <th>ExciseTax</th>\n",
       "      <th>VendorNo</th>\n",
       "      <th>VendorName</th>\n",
       "    </tr>\n",
       "  </thead>\n",
       "  <tbody>\n",
       "    <tr>\n",
       "      <th>0</th>\n",
       "      <td>1_HARDERSFIELD_1004</td>\n",
       "      <td>1</td>\n",
       "      <td>1004</td>\n",
       "      <td>Jim Beam w/2 Rocks Glasses</td>\n",
       "      <td>750mL</td>\n",
       "      <td>1</td>\n",
       "      <td>16.49</td>\n",
       "      <td>16.49</td>\n",
       "      <td>1/1/2016</td>\n",
       "      <td>750</td>\n",
       "      <td>1</td>\n",
       "      <td>0.79</td>\n",
       "      <td>12546</td>\n",
       "      <td>JIM BEAM BRANDS COMPANY</td>\n",
       "    </tr>\n",
       "    <tr>\n",
       "      <th>1</th>\n",
       "      <td>1_HARDERSFIELD_1004</td>\n",
       "      <td>1</td>\n",
       "      <td>1004</td>\n",
       "      <td>Jim Beam w/2 Rocks Glasses</td>\n",
       "      <td>750mL</td>\n",
       "      <td>2</td>\n",
       "      <td>32.98</td>\n",
       "      <td>16.49</td>\n",
       "      <td>1/2/2016</td>\n",
       "      <td>750</td>\n",
       "      <td>1</td>\n",
       "      <td>1.57</td>\n",
       "      <td>12546</td>\n",
       "      <td>JIM BEAM BRANDS COMPANY</td>\n",
       "    </tr>\n",
       "    <tr>\n",
       "      <th>2</th>\n",
       "      <td>1_HARDERSFIELD_1004</td>\n",
       "      <td>1</td>\n",
       "      <td>1004</td>\n",
       "      <td>Jim Beam w/2 Rocks Glasses</td>\n",
       "      <td>750mL</td>\n",
       "      <td>1</td>\n",
       "      <td>16.49</td>\n",
       "      <td>16.49</td>\n",
       "      <td>1/3/2016</td>\n",
       "      <td>750</td>\n",
       "      <td>1</td>\n",
       "      <td>0.79</td>\n",
       "      <td>12546</td>\n",
       "      <td>JIM BEAM BRANDS COMPANY</td>\n",
       "    </tr>\n",
       "    <tr>\n",
       "      <th>3</th>\n",
       "      <td>1_HARDERSFIELD_1004</td>\n",
       "      <td>1</td>\n",
       "      <td>1004</td>\n",
       "      <td>Jim Beam w/2 Rocks Glasses</td>\n",
       "      <td>750mL</td>\n",
       "      <td>1</td>\n",
       "      <td>14.49</td>\n",
       "      <td>14.49</td>\n",
       "      <td>1/8/2016</td>\n",
       "      <td>750</td>\n",
       "      <td>1</td>\n",
       "      <td>0.79</td>\n",
       "      <td>12546</td>\n",
       "      <td>JIM BEAM BRANDS COMPANY</td>\n",
       "    </tr>\n",
       "    <tr>\n",
       "      <th>4</th>\n",
       "      <td>1_HARDERSFIELD_1005</td>\n",
       "      <td>1</td>\n",
       "      <td>1005</td>\n",
       "      <td>Maker's Mark Combo Pack</td>\n",
       "      <td>375mL 2 Pk</td>\n",
       "      <td>2</td>\n",
       "      <td>69.98</td>\n",
       "      <td>34.99</td>\n",
       "      <td>1/9/2016</td>\n",
       "      <td>375</td>\n",
       "      <td>1</td>\n",
       "      <td>0.79</td>\n",
       "      <td>12546</td>\n",
       "      <td>JIM BEAM BRANDS COMPANY</td>\n",
       "    </tr>\n",
       "  </tbody>\n",
       "</table>\n",
       "</div>"
      ],
      "text/plain": [
       "           InventoryId  Store  Brand                 Description        Size  \\\n",
       "0  1_HARDERSFIELD_1004      1   1004  Jim Beam w/2 Rocks Glasses       750mL   \n",
       "1  1_HARDERSFIELD_1004      1   1004  Jim Beam w/2 Rocks Glasses       750mL   \n",
       "2  1_HARDERSFIELD_1004      1   1004  Jim Beam w/2 Rocks Glasses       750mL   \n",
       "3  1_HARDERSFIELD_1004      1   1004  Jim Beam w/2 Rocks Glasses       750mL   \n",
       "4  1_HARDERSFIELD_1005      1   1005     Maker's Mark Combo Pack  375mL 2 Pk   \n",
       "\n",
       "   SalesQuantity  SalesDollars  SalesPrice SalesDate  Volume  Classification  \\\n",
       "0              1         16.49       16.49  1/1/2016     750               1   \n",
       "1              2         32.98       16.49  1/2/2016     750               1   \n",
       "2              1         16.49       16.49  1/3/2016     750               1   \n",
       "3              1         14.49       14.49  1/8/2016     750               1   \n",
       "4              2         69.98       34.99  1/9/2016     375               1   \n",
       "\n",
       "   ExciseTax  VendorNo                   VendorName  \n",
       "0       0.79     12546  JIM BEAM BRANDS COMPANY      \n",
       "1       1.57     12546  JIM BEAM BRANDS COMPANY      \n",
       "2       0.79     12546  JIM BEAM BRANDS COMPANY      \n",
       "3       0.79     12546  JIM BEAM BRANDS COMPANY      \n",
       "4       0.79     12546  JIM BEAM BRANDS COMPANY      "
      ]
     },
     "execution_count": 138,
     "metadata": {},
     "output_type": "execute_result"
    }
   ],
   "source": [
    "# head od sales \n",
    "sales.head()"
   ]
  },
  {
   "cell_type": "code",
   "execution_count": null,
   "id": "5b630634-a5c8-4382-b0bc-e31092250c1f",
   "metadata": {},
   "outputs": [],
   "source": [
    "# selected columns for merging \n",
    "sales_cols = [[]]"
   ]
  },
  {
   "cell_type": "code",
   "execution_count": 135,
   "id": "ddf8c378-ac3a-4a4a-bce4-b82482830198",
   "metadata": {},
   "outputs": [],
   "source": [
    "Purchases = pd.read_csv(\"PurchasesInvoices.csv\")"
   ]
  },
  {
   "cell_type": "code",
   "execution_count": null,
   "id": "3679053e-14fd-4aa4-8fc6-d657638685da",
   "metadata": {},
   "outputs": [],
   "source": []
  },
  {
   "cell_type": "markdown",
   "id": "c7416e43-f5a7-4c74-8c73-39e36687e27e",
   "metadata": {},
   "source": [
    "..."
   ]
  },
  {
   "cell_type": "markdown",
   "id": "f3b0989c-5440-4373-a0ed-d93e2936eecb",
   "metadata": {},
   "source": [
    "## 7. Inventorey Data Transformation"
   ]
  },
  {
   "cell_type": "code",
   "execution_count": 32,
   "id": "7595bff9-0e53-4de7-831a-919031094bd8",
   "metadata": {},
   "outputs": [],
   "source": [
    "# Droping some columns from End Inventorey before merging \n",
    "End_Inv = End_Inv.drop([\"Description\",\"Size\",\"Price\",\"endDate\",\"City\"], axis = 1)"
   ]
  },
  {
   "cell_type": "code",
   "execution_count": 33,
   "id": "c39f18df-e22c-47b0-9ab5-aad1ea8ad512",
   "metadata": {},
   "outputs": [],
   "source": [
    "# Drop StartDate from Begin Inventory\n",
    "Begin_Inv = Begin_Inv.drop(\"startDate\", axis = 1)"
   ]
  },
  {
   "cell_type": "markdown",
   "id": "e7d910de-404e-477d-82c4-53eee93b65c0",
   "metadata": {},
   "source": [
    "## 8.  Start and End Inventory Data Merging \n"
   ]
  },
  {
   "cell_type": "code",
   "execution_count": 34,
   "id": "e78cef22-8df2-4979-a60d-0c8da2ab8feb",
   "metadata": {},
   "outputs": [],
   "source": [
    "# Merge the Data on the common columns\n",
    "merged_inventory = pd.merge(\n",
    "    Begin_Inv,\n",
    "        End_Inv,\n",
    "   \n",
    "    on=[\"Store\",\"InventoryId\",\"Brand\"], \n",
    "    how='left',\n",
    "    suffixes=('_start', '_end')\n",
    ")"
   ]
  },
  {
   "cell_type": "markdown",
   "id": "30182680-9ba4-4b57-842f-65ec9af53868",
   "metadata": {},
   "source": [
    "## 9. Inventory Data and Purchases Quantity from purchases 2016 Merging \n"
   ]
  },
  {
   "cell_type": "code",
   "execution_count": 35,
   "id": "dc12eb9c-d9bc-4cee-8f1b-e0b1dd2e64c3",
   "metadata": {},
   "outputs": [],
   "source": [
    "# Select Brand and Quantity from Purchases \n",
    "Cols_for_merge = purchases_2016[[\"Store\",\"Quantity\",\"InventoryId\",\"Brand\"]]"
   ]
  },
  {
   "cell_type": "code",
   "execution_count": 36,
   "id": "f5796e97-d70a-44a7-89ec-e4c87907c8e6",
   "metadata": {},
   "outputs": [
    {
     "data": {
      "text/html": [
       "<div>\n",
       "<style scoped>\n",
       "    .dataframe tbody tr th:only-of-type {\n",
       "        vertical-align: middle;\n",
       "    }\n",
       "\n",
       "    .dataframe tbody tr th {\n",
       "        vertical-align: top;\n",
       "    }\n",
       "\n",
       "    .dataframe thead th {\n",
       "        text-align: right;\n",
       "    }\n",
       "</style>\n",
       "<table border=\"1\" class=\"dataframe\">\n",
       "  <thead>\n",
       "    <tr style=\"text-align: right;\">\n",
       "      <th></th>\n",
       "      <th>InventoryId</th>\n",
       "      <th>Store</th>\n",
       "      <th>City</th>\n",
       "      <th>Brand</th>\n",
       "      <th>Description</th>\n",
       "      <th>Size</th>\n",
       "      <th>onHand_start</th>\n",
       "      <th>Price</th>\n",
       "      <th>onHand_end</th>\n",
       "      <th>Quantity</th>\n",
       "    </tr>\n",
       "  </thead>\n",
       "  <tbody>\n",
       "    <tr>\n",
       "      <th>0</th>\n",
       "      <td>1_HARDERSFIELD_58</td>\n",
       "      <td>1</td>\n",
       "      <td>HARDERSFIELD</td>\n",
       "      <td>58</td>\n",
       "      <td>Gekkeikan Black &amp; Gold Sake</td>\n",
       "      <td>750mL</td>\n",
       "      <td>8</td>\n",
       "      <td>12.99</td>\n",
       "      <td>11.0</td>\n",
       "      <td>6.0</td>\n",
       "    </tr>\n",
       "    <tr>\n",
       "      <th>1</th>\n",
       "      <td>1_HARDERSFIELD_58</td>\n",
       "      <td>1</td>\n",
       "      <td>HARDERSFIELD</td>\n",
       "      <td>58</td>\n",
       "      <td>Gekkeikan Black &amp; Gold Sake</td>\n",
       "      <td>750mL</td>\n",
       "      <td>8</td>\n",
       "      <td>12.99</td>\n",
       "      <td>11.0</td>\n",
       "      <td>6.0</td>\n",
       "    </tr>\n",
       "    <tr>\n",
       "      <th>2</th>\n",
       "      <td>1_HARDERSFIELD_58</td>\n",
       "      <td>1</td>\n",
       "      <td>HARDERSFIELD</td>\n",
       "      <td>58</td>\n",
       "      <td>Gekkeikan Black &amp; Gold Sake</td>\n",
       "      <td>750mL</td>\n",
       "      <td>8</td>\n",
       "      <td>12.99</td>\n",
       "      <td>11.0</td>\n",
       "      <td>6.0</td>\n",
       "    </tr>\n",
       "    <tr>\n",
       "      <th>3</th>\n",
       "      <td>1_HARDERSFIELD_58</td>\n",
       "      <td>1</td>\n",
       "      <td>HARDERSFIELD</td>\n",
       "      <td>58</td>\n",
       "      <td>Gekkeikan Black &amp; Gold Sake</td>\n",
       "      <td>750mL</td>\n",
       "      <td>8</td>\n",
       "      <td>12.99</td>\n",
       "      <td>11.0</td>\n",
       "      <td>6.0</td>\n",
       "    </tr>\n",
       "    <tr>\n",
       "      <th>4</th>\n",
       "      <td>1_HARDERSFIELD_58</td>\n",
       "      <td>1</td>\n",
       "      <td>HARDERSFIELD</td>\n",
       "      <td>58</td>\n",
       "      <td>Gekkeikan Black &amp; Gold Sake</td>\n",
       "      <td>750mL</td>\n",
       "      <td>8</td>\n",
       "      <td>12.99</td>\n",
       "      <td>11.0</td>\n",
       "      <td>5.0</td>\n",
       "    </tr>\n",
       "  </tbody>\n",
       "</table>\n",
       "</div>"
      ],
      "text/plain": [
       "         InventoryId  Store          City  Brand                  Description  \\\n",
       "0  1_HARDERSFIELD_58      1  HARDERSFIELD     58  Gekkeikan Black & Gold Sake   \n",
       "1  1_HARDERSFIELD_58      1  HARDERSFIELD     58  Gekkeikan Black & Gold Sake   \n",
       "2  1_HARDERSFIELD_58      1  HARDERSFIELD     58  Gekkeikan Black & Gold Sake   \n",
       "3  1_HARDERSFIELD_58      1  HARDERSFIELD     58  Gekkeikan Black & Gold Sake   \n",
       "4  1_HARDERSFIELD_58      1  HARDERSFIELD     58  Gekkeikan Black & Gold Sake   \n",
       "\n",
       "    Size  onHand_start  Price  onHand_end  Quantity  \n",
       "0  750mL             8  12.99        11.0       6.0  \n",
       "1  750mL             8  12.99        11.0       6.0  \n",
       "2  750mL             8  12.99        11.0       6.0  \n",
       "3  750mL             8  12.99        11.0       6.0  \n",
       "4  750mL             8  12.99        11.0       5.0  "
      ]
     },
     "execution_count": 36,
     "metadata": {},
     "output_type": "execute_result"
    }
   ],
   "source": [
    "# Merge purchases Quantity with Inventory \n",
    "merged_inventory_Pur = pd.merge(merged_inventory,Cols_for_merge , on = [\"Store\",\"InventoryId\",\"Brand\"] , how = \"left\")\n",
    "merged_inventory_Pur.head()"
   ]
  },
  {
   "cell_type": "markdown",
   "id": "3844678c-b918-421e-827c-11712c494e1f",
   "metadata": {},
   "source": [
    "## 10.Inventory_Purchases Data and Sales Quantity from Sales Merging \n"
   ]
  },
  {
   "cell_type": "code",
   "execution_count": 37,
   "id": "aa57863a-aa11-4409-b20a-49fa61000eae",
   "metadata": {},
   "outputs": [],
   "source": [
    "# Selected cols from sales for merging with inventory \n",
    "sales_cols = sales[[\"InventoryId\",\"Store\",\"SalesQuantity\",\"Brand\"]]"
   ]
  },
  {
   "cell_type": "code",
   "execution_count": 38,
   "id": "2deec748-36b8-4011-8ee5-cc1758c8bd3a",
   "metadata": {},
   "outputs": [],
   "source": [
    "# merge sales_col with Inverntory \n",
    "Inventory_final = pd.merge(merged_inventory_Pur,\n",
    "                           sales_cols,\n",
    "                           on = [\"Store\",\"InventoryId\",\"Brand\"] \n",
    "                           , how = \"left\",\n",
    "                          )"
   ]
  },
  {
   "cell_type": "markdown",
   "id": "e8f6d990-8df7-400d-b3c9-df77afbbbf3d",
   "metadata": {},
   "source": [
    "## 11. Inventory Data Transformation"
   ]
  },
  {
   "cell_type": "code",
   "execution_count": 39,
   "id": "2d06da14-3710-4aec-82bf-6ba995a934ca",
   "metadata": {},
   "outputs": [
    {
     "data": {
      "text/html": [
       "<div>\n",
       "<style scoped>\n",
       "    .dataframe tbody tr th:only-of-type {\n",
       "        vertical-align: middle;\n",
       "    }\n",
       "\n",
       "    .dataframe tbody tr th {\n",
       "        vertical-align: top;\n",
       "    }\n",
       "\n",
       "    .dataframe thead th {\n",
       "        text-align: right;\n",
       "    }\n",
       "</style>\n",
       "<table border=\"1\" class=\"dataframe\">\n",
       "  <thead>\n",
       "    <tr style=\"text-align: right;\">\n",
       "      <th></th>\n",
       "      <th>InventoryId</th>\n",
       "      <th>Store</th>\n",
       "      <th>City</th>\n",
       "      <th>Brand</th>\n",
       "      <th>Description</th>\n",
       "      <th>Size</th>\n",
       "      <th>onHand_start</th>\n",
       "      <th>Price</th>\n",
       "      <th>onHand_end</th>\n",
       "      <th>PurchasedQuantity</th>\n",
       "      <th>SalesQuantity</th>\n",
       "    </tr>\n",
       "  </thead>\n",
       "  <tbody>\n",
       "    <tr>\n",
       "      <th>0</th>\n",
       "      <td>1_HARDERSFIELD_58</td>\n",
       "      <td>1</td>\n",
       "      <td>HARDERSFIELD</td>\n",
       "      <td>58</td>\n",
       "      <td>Gekkeikan Black &amp; Gold Sake</td>\n",
       "      <td>750mL</td>\n",
       "      <td>8</td>\n",
       "      <td>12.99</td>\n",
       "      <td>11.0</td>\n",
       "      <td>6.0</td>\n",
       "      <td>1.0</td>\n",
       "    </tr>\n",
       "    <tr>\n",
       "      <th>1</th>\n",
       "      <td>1_HARDERSFIELD_58</td>\n",
       "      <td>1</td>\n",
       "      <td>HARDERSFIELD</td>\n",
       "      <td>58</td>\n",
       "      <td>Gekkeikan Black &amp; Gold Sake</td>\n",
       "      <td>750mL</td>\n",
       "      <td>8</td>\n",
       "      <td>12.99</td>\n",
       "      <td>11.0</td>\n",
       "      <td>6.0</td>\n",
       "      <td>2.0</td>\n",
       "    </tr>\n",
       "    <tr>\n",
       "      <th>2</th>\n",
       "      <td>1_HARDERSFIELD_58</td>\n",
       "      <td>1</td>\n",
       "      <td>HARDERSFIELD</td>\n",
       "      <td>58</td>\n",
       "      <td>Gekkeikan Black &amp; Gold Sake</td>\n",
       "      <td>750mL</td>\n",
       "      <td>8</td>\n",
       "      <td>12.99</td>\n",
       "      <td>11.0</td>\n",
       "      <td>6.0</td>\n",
       "      <td>1.0</td>\n",
       "    </tr>\n",
       "    <tr>\n",
       "      <th>3</th>\n",
       "      <td>1_HARDERSFIELD_58</td>\n",
       "      <td>1</td>\n",
       "      <td>HARDERSFIELD</td>\n",
       "      <td>58</td>\n",
       "      <td>Gekkeikan Black &amp; Gold Sake</td>\n",
       "      <td>750mL</td>\n",
       "      <td>8</td>\n",
       "      <td>12.99</td>\n",
       "      <td>11.0</td>\n",
       "      <td>6.0</td>\n",
       "      <td>1.0</td>\n",
       "    </tr>\n",
       "    <tr>\n",
       "      <th>4</th>\n",
       "      <td>1_HARDERSFIELD_58</td>\n",
       "      <td>1</td>\n",
       "      <td>HARDERSFIELD</td>\n",
       "      <td>58</td>\n",
       "      <td>Gekkeikan Black &amp; Gold Sake</td>\n",
       "      <td>750mL</td>\n",
       "      <td>8</td>\n",
       "      <td>12.99</td>\n",
       "      <td>11.0</td>\n",
       "      <td>6.0</td>\n",
       "      <td>1.0</td>\n",
       "    </tr>\n",
       "  </tbody>\n",
       "</table>\n",
       "</div>"
      ],
      "text/plain": [
       "         InventoryId  Store          City  Brand                  Description  \\\n",
       "0  1_HARDERSFIELD_58      1  HARDERSFIELD     58  Gekkeikan Black & Gold Sake   \n",
       "1  1_HARDERSFIELD_58      1  HARDERSFIELD     58  Gekkeikan Black & Gold Sake   \n",
       "2  1_HARDERSFIELD_58      1  HARDERSFIELD     58  Gekkeikan Black & Gold Sake   \n",
       "3  1_HARDERSFIELD_58      1  HARDERSFIELD     58  Gekkeikan Black & Gold Sake   \n",
       "4  1_HARDERSFIELD_58      1  HARDERSFIELD     58  Gekkeikan Black & Gold Sake   \n",
       "\n",
       "    Size  onHand_start  Price  onHand_end  PurchasedQuantity  SalesQuantity  \n",
       "0  750mL             8  12.99        11.0                6.0            1.0  \n",
       "1  750mL             8  12.99        11.0                6.0            2.0  \n",
       "2  750mL             8  12.99        11.0                6.0            1.0  \n",
       "3  750mL             8  12.99        11.0                6.0            1.0  \n",
       "4  750mL             8  12.99        11.0                6.0            1.0  "
      ]
     },
     "execution_count": 39,
     "metadata": {},
     "output_type": "execute_result"
    }
   ],
   "source": [
    "# Change the Quantity Column name from Quantity to PurchasedQuantity\n",
    "Inventory_final = Inventory_final.rename(columns={\"Quantity\": \"PurchasedQuantity\"})\n",
    "Inventory_final.head()"
   ]
  },
  {
   "cell_type": "code",
   "execution_count": 40,
   "id": "cc695150-80ff-47d0-9d2d-2748f61f47fd",
   "metadata": {},
   "outputs": [],
   "source": [
    "# Droping description and size \n",
    "Inventory_final = Inventory_final.drop([\"Size\",\"Description\"], axis = 1)"
   ]
  },
  {
   "cell_type": "markdown",
   "id": "2c5ce4da",
   "metadata": {},
   "source": [
    "\n",
    "## 3. Grouping and Aggregation\n",
    "\n",
    "We group the data by `Store`, `InventoryId`, and `Brand`, and apply aggregation functions to calculate sums for various columns. This step consolidates the inventory data by these groupings.\n"
   ]
  },
  {
   "cell_type": "code",
   "execution_count": 41,
   "id": "a1dc1d11",
   "metadata": {},
   "outputs": [
    {
     "data": {
      "text/html": [
       "<div>\n",
       "<style scoped>\n",
       "    .dataframe tbody tr th:only-of-type {\n",
       "        vertical-align: middle;\n",
       "    }\n",
       "\n",
       "    .dataframe tbody tr th {\n",
       "        vertical-align: top;\n",
       "    }\n",
       "\n",
       "    .dataframe thead th {\n",
       "        text-align: right;\n",
       "    }\n",
       "</style>\n",
       "<table border=\"1\" class=\"dataframe\">\n",
       "  <thead>\n",
       "    <tr style=\"text-align: right;\">\n",
       "      <th></th>\n",
       "      <th>Store</th>\n",
       "      <th>InventoryId</th>\n",
       "      <th>Brand</th>\n",
       "      <th>onHand_start</th>\n",
       "      <th>Price</th>\n",
       "      <th>onHand_end</th>\n",
       "      <th>PurchasedQuantity</th>\n",
       "      <th>SalesQuantity</th>\n",
       "    </tr>\n",
       "  </thead>\n",
       "  <tbody>\n",
       "    <tr>\n",
       "      <th>0</th>\n",
       "      <td>1</td>\n",
       "      <td>1_HARDERSFIELD_1000</td>\n",
       "      <td>1000</td>\n",
       "      <td>0</td>\n",
       "      <td>14.99</td>\n",
       "      <td>0.0</td>\n",
       "      <td>0.0</td>\n",
       "      <td>0.0</td>\n",
       "    </tr>\n",
       "    <tr>\n",
       "      <th>1</th>\n",
       "      <td>1</td>\n",
       "      <td>1_HARDERSFIELD_1001</td>\n",
       "      <td>1001</td>\n",
       "      <td>0</td>\n",
       "      <td>11.98</td>\n",
       "      <td>0.0</td>\n",
       "      <td>120.0</td>\n",
       "      <td>0.0</td>\n",
       "    </tr>\n",
       "    <tr>\n",
       "      <th>2</th>\n",
       "      <td>1</td>\n",
       "      <td>1_HARDERSFIELD_10021</td>\n",
       "      <td>10021</td>\n",
       "      <td>50</td>\n",
       "      <td>23.98</td>\n",
       "      <td>46.0</td>\n",
       "      <td>24.0</td>\n",
       "      <td>12.0</td>\n",
       "    </tr>\n",
       "    <tr>\n",
       "      <th>3</th>\n",
       "      <td>1</td>\n",
       "      <td>1_HARDERSFIELD_1004</td>\n",
       "      <td>1004</td>\n",
       "      <td>221</td>\n",
       "      <td>214.37</td>\n",
       "      <td>0.0</td>\n",
       "      <td>234.0</td>\n",
       "      <td>17.0</td>\n",
       "    </tr>\n",
       "    <tr>\n",
       "      <th>4</th>\n",
       "      <td>1</td>\n",
       "      <td>1_HARDERSFIELD_1005</td>\n",
       "      <td>1005</td>\n",
       "      <td>70</td>\n",
       "      <td>349.90</td>\n",
       "      <td>0.0</td>\n",
       "      <td>60.0</td>\n",
       "      <td>11.0</td>\n",
       "    </tr>\n",
       "  </tbody>\n",
       "</table>\n",
       "</div>"
      ],
      "text/plain": [
       "   Store           InventoryId  Brand  onHand_start   Price  onHand_end  \\\n",
       "0      1   1_HARDERSFIELD_1000   1000             0   14.99         0.0   \n",
       "1      1   1_HARDERSFIELD_1001   1001             0   11.98         0.0   \n",
       "2      1  1_HARDERSFIELD_10021  10021            50   23.98        46.0   \n",
       "3      1   1_HARDERSFIELD_1004   1004           221  214.37         0.0   \n",
       "4      1   1_HARDERSFIELD_1005   1005            70  349.90         0.0   \n",
       "\n",
       "   PurchasedQuantity  SalesQuantity  \n",
       "0                0.0            0.0  \n",
       "1              120.0            0.0  \n",
       "2               24.0           12.0  \n",
       "3              234.0           17.0  \n",
       "4               60.0           11.0  "
      ]
     },
     "execution_count": 41,
     "metadata": {},
     "output_type": "execute_result"
    }
   ],
   "source": [
    "\n",
    "# Grouping data and calculating sums for specified columns\n",
    "grouped_data = Inventory_final.groupby(\n",
    "    ['Store', 'InventoryId', 'Brand']\n",
    ").agg({\n",
    "    'onHand_start': 'sum',\n",
    "    'Price': 'sum',\n",
    "    'onHand_end': 'sum',\n",
    "    'PurchasedQuantity': 'sum',\n",
    "    'SalesQuantity': 'sum'\n",
    "}).reset_index()\n",
    "\n",
    "# Displaying the first 5 rows of the grouped data\n",
    "grouped_data.head()\n"
   ]
  },
  {
   "cell_type": "markdown",
   "id": "10a640b0",
   "metadata": {},
   "source": [
    "\n",
    "## 4. Data Integrity Checks\n"
   ]
  },
  {
   "cell_type": "code",
   "execution_count": 42,
   "id": "561046a3",
   "metadata": {},
   "outputs": [
    {
     "data": {
      "text/plain": [
       "(206529, 8)"
      ]
     },
     "execution_count": 42,
     "metadata": {},
     "output_type": "execute_result"
    }
   ],
   "source": [
    "\n",
    "# Checking the shape \n",
    "grouped_data.shape\n"
   ]
  },
  {
   "cell_type": "markdown",
   "id": "c32a33a6",
   "metadata": {},
   "source": [
    "\n",
    "### Checking for Missing Values"
   ]
  },
  {
   "cell_type": "code",
   "execution_count": 43,
   "id": "3a70801e",
   "metadata": {},
   "outputs": [
    {
     "data": {
      "text/plain": [
       "Store                0\n",
       "InventoryId          0\n",
       "Brand                0\n",
       "onHand_start         0\n",
       "Price                0\n",
       "onHand_end           0\n",
       "PurchasedQuantity    0\n",
       "SalesQuantity        0\n",
       "dtype: int64"
      ]
     },
     "execution_count": 43,
     "metadata": {},
     "output_type": "execute_result"
    }
   ],
   "source": [
    "\n",
    "# Checking for null values \n",
    "grouped_data.isna().sum()\n"
   ]
  },
  {
   "cell_type": "markdown",
   "id": "8361a7df",
   "metadata": {},
   "source": [
    "\n",
    "## 5. Exporting the Inventory Data"
   ]
  },
  {
   "cell_type": "code",
   "execution_count": 44,
   "id": "01db2234",
   "metadata": {},
   "outputs": [],
   "source": [
    "\n",
    "# Exporting the Inventory Data to a CSV file\n",
    "grouped_data.to_csv(\"Inventory.csv\", index=False)\n"
   ]
  }
 ],
 "metadata": {
  "kernelspec": {
   "display_name": "Python 3 (ipykernel)",
   "language": "python",
   "name": "python3"
  },
  "language_info": {
   "codemirror_mode": {
    "name": "ipython",
    "version": 3
   },
   "file_extension": ".py",
   "mimetype": "text/x-python",
   "name": "python",
   "nbconvert_exporter": "python",
   "pygments_lexer": "ipython3",
   "version": "3.12.4"
  }
 },
 "nbformat": 4,
 "nbformat_minor": 5
}
